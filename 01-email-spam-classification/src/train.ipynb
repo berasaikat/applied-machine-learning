{
 "cells": [
  {
   "cell_type": "code",
   "execution_count": 23,
   "metadata": {},
   "outputs": [],
   "source": [
    "import pandas as pd\n",
    "import matplotlib.pyplot as plt\n",
    "import seaborn as sns\n",
    "\n",
    "from sklearn.metrics import classification_report, confusion_matrix\n",
    "from sklearn.linear_model import LogisticRegression\n",
    "from sklearn.feature_extraction.text import TfidfVectorizer\n",
    "from sklearn.pipeline import Pipeline\n",
    "\n",
    "import warnings\n",
    "warnings.filterwarnings('ignore')"
   ]
  },
  {
   "cell_type": "code",
   "execution_count": 24,
   "metadata": {},
   "outputs": [],
   "source": [
    "datasets = ['train', 'val', 'test']\n",
    "loaded_data = {}\n",
    "for dataset in datasets:\n",
    "    loaded_data[f'{dataset}_X'] = pd.read_csv(f'E:/Coding/Applied Machine Learning/01-email-spam-classification/data/{dataset}_X.csv')\n",
    "    loaded_data[f'{dataset}_y'] = pd.read_csv(f'E:/Coding/Applied Machine Learning/01-email-spam-classification/data/{dataset}_y.csv')\n",
    "\n",
    "# Access the loaded datasets like this:\n",
    "train_X = loaded_data['train_X']\n",
    "train_y = loaded_data['train_y']\n",
    "val_X = loaded_data['val_X']\n",
    "val_y = loaded_data['val_y']\n",
    "test_X = loaded_data['test_X']\n",
    "test_y = loaded_data['test_y']"
   ]
  },
  {
   "cell_type": "code",
   "execution_count": 25,
   "metadata": {},
   "outputs": [],
   "source": [
    "from xgboost import XGBClassifier"
   ]
  },
  {
   "cell_type": "code",
   "execution_count": 26,
   "metadata": {},
   "outputs": [],
   "source": [
    "from tqdm import tqdm\n",
    "import time"
   ]
  },
  {
   "cell_type": "code",
   "execution_count": 61,
   "metadata": {},
   "outputs": [],
   "source": [
    "from sklearn.linear_model import LogisticRegression\n",
    "from sklearn.naive_bayes import MultinomialNB"
   ]
  },
  {
   "cell_type": "code",
   "execution_count": 63,
   "metadata": {},
   "outputs": [],
   "source": [
    "from sklearn.metrics import accuracy_score"
   ]
  },
  {
   "cell_type": "code",
   "execution_count": 62,
   "metadata": {},
   "outputs": [],
   "source": [
    "def train_models(train_X, train_y):\n",
    "    # XGBoost model\n",
    "    xgb_pipeline = Pipeline([\n",
    "        ('tfidf', TfidfVectorizer(max_features=10000)),\n",
    "        ('clf', XGBClassifier(random_state=1))\n",
    "    ])\n",
    "    xgb_pipeline.fit(train_X, train_y)\n",
    "\n",
    "    # Logistic Regression model\n",
    "    lr_pipeline = Pipeline([\n",
    "        ('tfidf', TfidfVectorizer(max_features=10000)),\n",
    "        ('clf', LogisticRegression(random_state=1))\n",
    "    ])\n",
    "    lr_pipeline.fit(train_X, train_y)\n",
    "\n",
    "    # Multinomial Naive Bayes model\n",
    "    nb_pipeline = Pipeline([\n",
    "        ('tfidf', TfidfVectorizer(max_features=10000)),\n",
    "        ('clf', MultinomialNB())\n",
    "    ])\n",
    "    nb_pipeline.fit(train_X, train_y)\n",
    "\n",
    "    return xgb_pipeline, lr_pipeline, nb_pipeline"
   ]
  },
  {
   "cell_type": "code",
   "execution_count": 64,
   "metadata": {},
   "outputs": [],
   "source": [
    "def evaluate_models(pipelines, val_X, val_y):\n",
    "    results = {}\n",
    "    for name, pipeline in pipelines.items():\n",
    "        predictions = pipeline.predict(val_X)\n",
    "        accuracy = accuracy_score(val_y, predictions)\n",
    "        results[name] = accuracy\n",
    "        print(f'{name} Accuracy: {accuracy:.4f}')\n",
    "    return results"
   ]
  },
  {
   "cell_type": "code",
   "execution_count": 65,
   "metadata": {},
   "outputs": [],
   "source": [
    "xgb_pipeline, lr_pipeline, nb_pipeline = train_models(train_X.text, train_y.spam)"
   ]
  },
  {
   "cell_type": "code",
   "execution_count": 66,
   "metadata": {},
   "outputs": [
    {
     "name": "stdout",
     "output_type": "stream",
     "text": [
      "XGBoost Accuracy: 0.9804\n",
      "Logistic Regression Accuracy: 0.9749\n",
      "Multinomial Naive Bayes Accuracy: 0.9637\n"
     ]
    }
   ],
   "source": [
    "# Store the pipelines in a dictionary for easy reference\n",
    "pipelines = {\n",
    "    'XGBoost': xgb_pipeline,\n",
    "    'Logistic Regression': lr_pipeline,\n",
    "    'Multinomial Naive Bayes': nb_pipeline\n",
    "}\n",
    "\n",
    "# Evaluate models on validation data\n",
    "evaluation_results = evaluate_models(pipelines, val_X.text, val_y.spam)"
   ]
  },
  {
   "cell_type": "code",
   "execution_count": 40,
   "metadata": {},
   "outputs": [],
   "source": [
    "# Train an XGBoost model with TF-IDF vectorization\n",
    "def train_xgboost(train_X, train_y):\n",
    "    pipeline = Pipeline([\n",
    "        ('tfidf', TfidfVectorizer(max_features=10000)),\n",
    "        ('clf', XGBClassifier(random_state=1))\n",
    "    ])\n",
    "    pipeline.fit(train_X, train_y)\n",
    "    return pipeline"
   ]
  },
  {
   "cell_type": "code",
   "execution_count": 28,
   "metadata": {},
   "outputs": [
    {
     "data": {
      "text/plain": [
       "(4296, 4296)"
      ]
     },
     "execution_count": 28,
     "metadata": {},
     "output_type": "execute_result"
    }
   ],
   "source": [
    "len(train_X), len(train_y)"
   ]
  },
  {
   "cell_type": "code",
   "execution_count": 54,
   "metadata": {},
   "outputs": [],
   "source": [
    "best_model = train_xgboost(train_X.text, train_y.spam)"
   ]
  },
  {
   "cell_type": "code",
   "execution_count": 59,
   "metadata": {},
   "outputs": [],
   "source": [
    "# Evaluate the model and display results\n",
    "def evaluate_model(model, test_X, test_y):\n",
    "\n",
    "    # Evaluate the best model on the test data\n",
    "    best_model = model\n",
    "    test_accuracy = best_model.score(test_X, test_y)\n",
    "    print(\"Test Accuracy with Best Model: \", test_accuracy)\n",
    "\n",
    "    y_pred = model.predict(test_X)\n",
    "    confusion = confusion_matrix(test_y, y_pred)\n",
    "    report = classification_report(test_y, y_pred, target_names=[\"Class 0\", \"Class 1\"])\n",
    "\n",
    "    plt.figure(figsize=(8, 6))\n",
    "    sns.heatmap(confusion, annot=True, fmt='d', cmap='Blues', cbar=False)\n",
    "    plt.xlabel('Predicted Labels')\n",
    "    plt.ylabel('True Labels')\n",
    "    plt.title('Confusion Matrix')\n",
    "    plt.show()\n",
    "\n",
    "    print(\"Classification Report:\")\n",
    "    print(report)"
   ]
  },
  {
   "cell_type": "code",
   "execution_count": 60,
   "metadata": {},
   "outputs": [
    {
     "name": "stdout",
     "output_type": "stream",
     "text": [
      "Test Accuracy with Best Model:  0.9947643979057592\n"
     ]
    },
    {
     "data": {
      "image/png": "[encoded data removed]",
      "text/plain": [
       "<Figure size 800x600 with 1 Axes>"
      ]
     },
     "metadata": {},
     "output_type": "display_data"
    },
    {
     "name": "stdout",
     "output_type": "stream",
     "text": [
      "Classification Report:\n",
      "              precision    recall  f1-score   support\n",
      "\n",
      "     Class 0       0.99      1.00      1.00       883\n",
      "     Class 1       1.00      0.98      0.99       263\n",
      "\n",
      "    accuracy                           0.99      1146\n",
      "   macro avg       1.00      0.99      0.99      1146\n",
      "weighted avg       0.99      0.99      0.99      1146\n",
      "\n"
     ]
    }
   ],
   "source": [
    "evaluate_model(best_model, test_X.text, test_y.spam)"
   ]
  },
  {
   "cell_type": "code",
   "execution_count": null,
   "metadata": {},
   "outputs": [],
   "source": []
  }
 ],
 "metadata": {
  "kernelspec": {
   "display_name": "Python 3",
   "language": "python",
   "name": "python3"
  },
  "language_info": {
   "codemirror_mode": {
    "name": "ipython",
    "version": 3
   },
   "file_extension": ".py",
   "mimetype": "text/x-python",
   "name": "python",
   "nbconvert_exporter": "python",
   "pygments_lexer": "ipython3",
   "version": "3.10.11"
  }
 },
 "nbformat": 4,
 "nbformat_minor": 2
}
