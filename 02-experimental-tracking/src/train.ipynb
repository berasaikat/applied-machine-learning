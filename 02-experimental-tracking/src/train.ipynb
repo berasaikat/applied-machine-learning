{
 "cells": [
  {
   "cell_type": "code",
   "execution_count": 2,
   "metadata": {},
   "outputs": [],
   "source": [
    "# loading the libraries\n",
    "import pandas as pd\n",
    "\n",
    "from sklearn.linear_model import LogisticRegression\n",
    "from sklearn.feature_extraction.text import TfidfVectorizer\n",
    "from sklearn.pipeline import Pipeline\n",
    "from lightgbm import LGBMClassifier\n",
    "from sklearn.linear_model import LogisticRegression\n",
    "from sklearn.naive_bayes import MultinomialNB\n",
    "from sklearn.metrics import precision_recall_curve, auc\n",
    "from sklearn.model_selection import GridSearchCV\n",
    "\n",
    "import mlflow\n",
    "import mlflow.sklearn\n",
    "from mlflow.tracking import MlflowClient\n",
    "\n",
    "import warnings\n",
    "warnings.filterwarnings('ignore')"
   ]
  },
  {
   "cell_type": "code",
   "execution_count": 3,
   "metadata": {},
   "outputs": [],
   "source": [
    "datasets = ['train', 'val', 'test']\n",
    "loaded_data = {}\n",
    "for dataset in datasets:\n",
    "    loaded_data[f'{dataset}'] = pd.read_csv(f'E:/Coding/Applied Machine Learning/02-experimental-tracking/data/prepared/{dataset}.csv')\n",
    "\n",
    "# Accessing the loaded datasets:\n",
    "train_X = loaded_data['train'].text\n",
    "train_y = loaded_data['train'].spam\n",
    "val_X = loaded_data['val'].text\n",
    "val_y = loaded_data['val'].spam\n",
    "test_X = loaded_data['test'].text\n",
    "test_y = loaded_data['test'].spam"
   ]
  },
  {
   "cell_type": "code",
   "execution_count": 4,
   "metadata": {},
   "outputs": [],
   "source": [
    "def train_models(train_X, train_y):\n",
    "    # XGBoost model\n",
    "    lgb_pipeline = Pipeline([\n",
    "        ('tfidf', TfidfVectorizer(max_features=10000)),\n",
    "        ('clf', LGBMClassifier(random_state=1, force_row_wise=True))\n",
    "    ])\n",
    "    lgb_pipeline.fit(train_X, train_y)\n",
    "\n",
    "    # Logistic Regression model\n",
    "    lr_pipeline = Pipeline([\n",
    "        ('tfidf', TfidfVectorizer(max_features=10000)),\n",
    "        ('clf', LogisticRegression(random_state=1))\n",
    "    ])\n",
    "    lr_pipeline.fit(train_X, train_y)\n",
    "\n",
    "    # Multinomial Naive Bayes model\n",
    "    nb_pipeline = Pipeline([\n",
    "        ('tfidf', TfidfVectorizer(max_features=10000)),\n",
    "        ('clf', MultinomialNB())\n",
    "    ])\n",
    "    nb_pipeline.fit(train_X, train_y)\n",
    "\n",
    "    return lgb_pipeline, lr_pipeline, nb_pipeline"
   ]
  },
  {
   "cell_type": "code",
   "execution_count": 5,
   "metadata": {},
   "outputs": [],
   "source": [
    "# function for evaluating the models\n",
    "def AUCPR_models(pipelines, test_X, test_y):\n",
    "    results = {}\n",
    "    for name, pipeline in pipelines.items():\n",
    "        predictions = pipeline.predict(test_X)\n",
    "        precision, recall, _ = precision_recall_curve(test_y, predictions)\n",
    "        auc_precision_recall = auc(recall, precision)\n",
    "        results[name] = auc_precision_recall\n",
    "        print(f'{name} AUCPR: {auc_precision_recall:.4f}')\n",
    "    return results"
   ]
  },
  {
   "cell_type": "code",
   "execution_count": 6,
   "metadata": {},
   "outputs": [
    {
     "name": "stderr",
     "output_type": "stream",
     "text": [
      "2024/02/20 03:23:38 INFO mlflow.tracking.fluent: Experiment with name 'Model Version Control and Experiment Tracking Email for Spam Classification Problem' does not exist. Creating a new experiment.\n"
     ]
    },
    {
     "data": {
      "text/plain": [
       "<Experiment: artifact_location='file:///e:/Coding/Applied%20Machine%20Learning/02-experimental-tracking/src/mlruns/690074325115179996', creation_time=1708379618443, experiment_id='690074325115179996', last_update_time=1708379618443, lifecycle_stage='active', name=('Model Version Control and Experiment Tracking Email for Spam Classification '\n",
       " 'Problem'), tags={}>"
      ]
     },
     "execution_count": 6,
     "metadata": {},
     "output_type": "execute_result"
    }
   ],
   "source": [
    "# Creating a new MLflow Experiment\n",
    "mlflow.set_experiment(\"Model Version Control and Experiment Tracking Email for Spam Classification Problem\")"
   ]
  },
  {
   "cell_type": "code",
   "execution_count": 9,
   "metadata": {},
   "outputs": [
    {
     "name": "stdout",
     "output_type": "stream",
     "text": [
      "[LightGBM] [Info] Number of positive: 817, number of negative: 2619\n",
      "[LightGBM] [Info] Total Bins 76811\n",
      "[LightGBM] [Info] Number of data points in the train set: 3436, number of used features: 2508\n",
      "[LightGBM] [Info] [binary:BoostFromScore]: pavg=0.237776 -> initscore=-1.164909\n",
      "[LightGBM] [Info] Start training from score -1.164909\n",
      "Light GBM AUCPR: 0.9608\n",
      "Logistic Regression AUCPR: 0.9646\n",
      "Multinomial Naive Bayes AUCPR: 0.9304\n",
      "Model LGBMClassifier already exists in the registry.\n",
      "Model Version: 3 for model LGBMClassifier has been logged to MLflow Registry.\n",
      "Model LogisticRegression already exists in the registry.\n",
      "Model Version: 3 for model LogisticRegression has been logged to MLflow Registry.\n",
      "Model MultinomialNB already exists in the registry.\n",
      "Model Version: 3 for model MultinomialNB has been logged to MLflow Registry.\n"
     ]
    }
   ],
   "source": [
    "# Start MLflow run\n",
    "with mlflow.start_run():\n",
    "\n",
    "    # Define parameters\n",
    "    mlflow.log_param(\"max_features\", 10000)\n",
    "    \n",
    "    # Train models\n",
    "    lgb_pipeline, lr_pipeline, nb_pipeline = train_models(train_X, train_y)\n",
    "\n",
    "    # Log models in MLflow\n",
    "    model_names = [\"LGBMClassifier\", \"LogisticRegression\", \"MultinomialNB\"]\n",
    "    models = [lgb_pipeline, lr_pipeline, nb_pipeline]\n",
    "\n",
    "    # Storing the pipelines in a dictionary for easy reference\n",
    "    pipelines = {\n",
    "    'Light GBM': lgb_pipeline,\n",
    "    'Logistic Regression': lr_pipeline,\n",
    "    'Multinomial Naive Bayes': nb_pipeline\n",
    "    }\n",
    "\n",
    "    # Evaluate models on test data\n",
    "    evaluation_results = AUCPR_models(pipelines, test_X, test_y)\n",
    "\n",
    "    # Log evaluation metrics\n",
    "    for name, aucpr in evaluation_results.items():\n",
    "        mlflow.log_metric(f'{name}_AUCPR', aucpr)\n",
    "\n",
    "    # Initialize MLflow client\n",
    "    client = MlflowClient()\n",
    "\n",
    "    for model_name, model in zip(model_names, models):\n",
    "        mlflow.sklearn.log_model(model, model_name)\n",
    "        \n",
    "        # Create or get the model name in the MLflow Model Registry\n",
    "        try:\n",
    "            client.create_registered_model(model_name)\n",
    "        except Exception as e:\n",
    "            print(f\"Model {model_name} already exists in the registry.\")\n",
    "\n",
    "        # Create a new version of the model in the registry\n",
    "        model_uri = f\"runs:/{mlflow.active_run().info.run_id}/{model_name}\"\n",
    "        model_details = client.create_model_version(model_name, model_uri, mlflow.active_run().info.run_id)\n",
    "        \n",
    "        print(f\"Model Version: {model_details.version} for model {model_name} has been logged to MLflow Registry.\")"
   ]
  },
  {
   "cell_type": "code",
   "execution_count": 10,
   "metadata": {},
   "outputs": [
    {
     "name": "stdout",
     "output_type": "stream",
     "text": [
      "^C\n"
     ]
    }
   ],
   "source": [
    "! mlflow ui"
   ]
  },
  {
   "cell_type": "code",
   "execution_count": 16,
   "metadata": {},
   "outputs": [
    {
     "name": "stderr",
     "output_type": "stream",
     "text": [
      "2024/02/20 03:39:02 INFO mlflow.tracking.fluent: Experiment with name '(GridSearchCV) Model Version Control and Experiment Tracking Email for Spam Classification Problem with Hyperparameter Tuning' does not exist. Creating a new experiment.\n"
     ]
    },
    {
     "data": {
      "text/plain": [
       "<Experiment: artifact_location='file:///e:/Coding/Applied%20Machine%20Learning/02-experimental-tracking/src/mlruns/400935689654729131', creation_time=1708380542167, experiment_id='400935689654729131', last_update_time=1708380542167, lifecycle_stage='active', name=('(GridSearchCV) Model Version Control and Experiment Tracking Email for Spam '\n",
       " 'Classification Problem with Hyperparameter Tuning'), tags={}>"
      ]
     },
     "execution_count": 16,
     "metadata": {},
     "output_type": "execute_result"
    }
   ],
   "source": [
    "# Start of MLflow experiment tracking\n",
    "mlflow.set_experiment(\"(GridSearchCV) Model Version Control and Experiment Tracking Email for Spam Classification Problem with Hyperparameter Tuning\")"
   ]
  },
  {
   "cell_type": "code",
   "execution_count": 17,
   "metadata": {},
   "outputs": [],
   "source": [
    "# Define the base models\n",
    "models_gcv = {\n",
    "    'lightgbm': Pipeline([\n",
    "        ('tfidf', TfidfVectorizer(max_features=10000)),\n",
    "        ('clf', LGBMClassifier(random_state=1, force_row_wise=True))\n",
    "    ]),\n",
    "\n",
    "    'logistic_regression': Pipeline([\n",
    "        ('tfidf', TfidfVectorizer(max_features=10000)),\n",
    "        ('clf', LogisticRegression(random_state=1))\n",
    "    ]),\n",
    "\n",
    "    'naive_bayes': Pipeline([\n",
    "        ('tfidf', TfidfVectorizer(max_features=10000)),\n",
    "        ('clf', MultinomialNB())\n",
    "    ])\n",
    "}\n",
    "\n",
    "# Define the parameter grids for each model\n",
    "param_grids = {\n",
    "    'lightgbm': {\n",
    "        'tfidf__max_df': [0.5, 0.75],\n",
    "        'tfidf__ngram_range': [(1, 1), (1, 2)],\n",
    "        'clf__learning_rate': [0.01, 0.1, 0.5],\n",
    "        'clf__num_leaves': [15,31,63],\n",
    "        'clf__max_depth': [6, 8]\n",
    "    },\n",
    "\n",
    "    'logistic_regression': {\n",
    "        'tfidf__max_df': [0.5, 0.75],\n",
    "        'tfidf__ngram_range': [(1, 1), (1, 2)],\n",
    "        'clf__C': [0.1, 1, 10]\n",
    "    },\n",
    "    \n",
    "    'naive_bayes': {\n",
    "        'tfidf__max_df': [0.5, 0.75],\n",
    "        'tfidf__ngram_range': [(1, 1), (1, 2)],\n",
    "        'clf__alpha': [0.01, 0.1, 1]\n",
    "    }\n",
    "}"
   ]
  },
  {
   "cell_type": "code",
   "execution_count": 18,
   "metadata": {},
   "outputs": [],
   "source": [
    "def fit_models_with_grid_search(models, param_grids, X_train, y_train):\n",
    "    fitted_models = {}\n",
    "    \n",
    "    for name, model in models.items():\n",
    "        print(f\"Fitting {name}...\")\n",
    "        grid_search = GridSearchCV(model, param_grids[name], cv=5, n_jobs=-1)\n",
    "        grid_search.fit(X_train, y_train)\n",
    "        fitted_models[name] = grid_search\n",
    "        \n",
    "    return fitted_models"
   ]
  },
  {
   "cell_type": "code",
   "execution_count": 19,
   "metadata": {},
   "outputs": [],
   "source": [
    "def AUCPR_models(fitted_models, test_X, test_y):\n",
    "    results = {}\n",
    "    for name, grid_search_cv in fitted_models.items():\n",
    "        best_estimator = grid_search_cv.best_estimator_\n",
    "        predictions = best_estimator.predict(test_X)\n",
    "        precision, recall, _ = precision_recall_curve(test_y, predictions)\n",
    "        auc_precision_recall = auc(recall, precision)\n",
    "        results[name] = auc_precision_recall\n",
    "        print(f'{name} AUCPR: {auc_precision_recall:.4f}')\n",
    "    return results"
   ]
  },
  {
   "cell_type": "code",
   "execution_count": 25,
   "metadata": {},
   "outputs": [
    {
     "name": "stdout",
     "output_type": "stream",
     "text": [
      "Fitting lightgbm...\n",
      "[LightGBM] [Info] Number of positive: 817, number of negative: 2619\n",
      "[LightGBM] [Info] Total Bins 76546\n",
      "[LightGBM] [Info] Number of data points in the train set: 3436, number of used features: 2507\n",
      "[LightGBM] [Info] [binary:BoostFromScore]: pavg=0.237776 -> initscore=-1.164909\n",
      "[LightGBM] [Info] Start training from score -1.164909\n",
      "Fitting logistic_regression...\n",
      "Fitting naive_bayes...\n",
      "Model lightgbm_grid_search_cv already exists in the registry.\n",
      "Model Version: 3 for model lightgbm_grid_search_cv has been logged to MLflow Registry.\n",
      "Model logistic_regression_grid_search_cv already exists in the registry.\n",
      "Model Version: 3 for model logistic_regression_grid_search_cv has been logged to MLflow Registry.\n",
      "Model naive_bayes_grid_search_cv already exists in the registry.\n",
      "Model Version: 3 for model naive_bayes_grid_search_cv has been logged to MLflow Registry.\n",
      "lightgbm AUCPR: 0.9621\n",
      "logistic_regression AUCPR: 0.9908\n",
      "naive_bayes AUCPR: 0.9772\n"
     ]
    }
   ],
   "source": [
    "with mlflow.start_run():\n",
    "    mlflow.log_param(\"max_features\", 10000)\n",
    "    \n",
    "    # Train models with GridSearchCV\n",
    "    fitted_models = fit_models_with_grid_search(models_gcv, param_grids, train_X, train_y)\n",
    "\n",
    "    # Initialize MLflow client\n",
    "    client = MlflowClient()\n",
    "    \n",
    "    for name, grid_search_cv in fitted_models.items():\n",
    "        best_estimator = grid_search_cv.best_estimator_\n",
    "        best_params = grid_search_cv.best_params_\n",
    "\n",
    "        # Log the best model from GridSearchCV with a specific naming convention\n",
    "        model_name_with_suffix = f\"{name}_grid_search_cv\"  # Append _grid_search_cv to the model name\n",
    "        model_path = f\"{model_name_with_suffix}_best_model\"\n",
    "        mlflow.sklearn.log_model(best_estimator, model_path)\n",
    "        \n",
    "        # Log best parameters\n",
    "        for param, value in best_params.items():\n",
    "            mlflow.log_param(f\"{model_name_with_suffix}_{param}\", value)\n",
    "\n",
    "        # Create or get the model name in the MLflow Model Registry with the suffix\n",
    "        try:\n",
    "            client.create_registered_model(model_name_with_suffix)\n",
    "        except Exception as e:\n",
    "            print(f\"Model {model_name_with_suffix} already exists in the registry.\")\n",
    "\n",
    "        # Create a new version of the model in the registry\n",
    "        model_uri = f\"runs:/{mlflow.active_run().info.run_id}/{model_path}\"\n",
    "        model_details = client.create_model_version(model_name_with_suffix, model_uri, mlflow.active_run().info.run_id)\n",
    "        \n",
    "        print(f\"Model Version: {model_details.version} for model {model_name_with_suffix} has been logged to MLflow Registry.\")\n",
    "\n",
    "    # Evaluate models on test data and log AUCPR\n",
    "    AUCPR_results = AUCPR_models(fitted_models, test_X, test_y)\n",
    "    for name, aucpr in AUCPR_results.items():\n",
    "        mlflow.log_metric(f'{name}_grid_search_cv_AUCPR', aucpr)"
   ]
  },
  {
   "cell_type": "code",
   "execution_count": 24,
   "metadata": {},
   "outputs": [
    {
     "name": "stdout",
     "output_type": "stream",
     "text": [
      "^C\n"
     ]
    }
   ],
   "source": [
    "! mlflow ui"
   ]
  },
  {
   "cell_type": "markdown",
   "metadata": {},
   "source": [
    "---"
   ]
  },
  {
   "cell_type": "markdown",
   "metadata": {},
   "source": [
    "**Utilizing the optimal version of the top-performing model to compute the \"AUCPR\" metric on the test dataset.**"
   ]
  },
  {
   "cell_type": "code",
   "execution_count": 22,
   "metadata": {},
   "outputs": [],
   "source": [
    "model_name = \"logistic_regression_grid_search_cv\"\n",
    "model_version = \"1\"\n",
    "\n",
    "model_uri = f\"models:/{model_name}/{model_version}\"\n",
    "model = mlflow.sklearn.load_model(model_uri)"
   ]
  },
  {
   "cell_type": "code",
   "execution_count": 23,
   "metadata": {},
   "outputs": [
    {
     "name": "stdout",
     "output_type": "stream",
     "text": [
      "AUCPR on test dataset: 0.9908318297961889\n"
     ]
    }
   ],
   "source": [
    "pred_y = model.predict(test_X)\n",
    "# Calculating metrics on the test dataset\n",
    "precision, recall, _ = precision_recall_curve(test_y, pred_y)\n",
    "auc_precision_recall = auc(recall, precision)\n",
    "\n",
    "print(f\"AUCPR on test dataset: {auc_precision_recall}\")"
   ]
  },
  {
   "cell_type": "code",
   "execution_count": null,
   "metadata": {},
   "outputs": [],
   "source": []
  }
 ],
 "metadata": {
  "kernelspec": {
   "display_name": "Python 3",
   "language": "python",
   "name": "python3"
  },
  "language_info": {
   "codemirror_mode": {
    "name": "ipython",
    "version": 3
   },
   "file_extension": ".py",
   "mimetype": "text/x-python",
   "name": "python",
   "nbconvert_exporter": "python",
   "pygments_lexer": "ipython3",
   "version": "3.10.11"
  }
 },
 "nbformat": 4,
 "nbformat_minor": 2
}
