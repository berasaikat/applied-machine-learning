{
 "cells": [
  {
   "cell_type": "code",
   "execution_count": 2,
   "metadata": {},
   "outputs": [],
   "source": [
    "# loading the libraries\n",
    "import pandas as pd\n",
    "import matplotlib.pyplot as plt\n",
    "import seaborn as sns\n",
    "\n",
    "from sklearn.metrics import classification_report, confusion_matrix\n",
    "from sklearn.linear_model import LogisticRegression\n",
    "from sklearn.feature_extraction.text import TfidfVectorizer\n",
    "from sklearn.pipeline import Pipeline\n",
    "from lightgbm import LGBMClassifier\n",
    "from sklearn.linear_model import LogisticRegression\n",
    "from sklearn.naive_bayes import MultinomialNB\n",
    "from sklearn.metrics import precision_recall_curve, average_precision_score, auc, accuracy_score\n",
    "\n",
    "import warnings\n",
    "warnings.filterwarnings('ignore')"
   ]
  },
  {
   "cell_type": "code",
   "execution_count": 4,
   "metadata": {},
   "outputs": [],
   "source": [
    "datasets = ['train', 'val', 'test']\n",
    "loaded_data = {}\n",
    "for dataset in datasets:\n",
    "    loaded_data[f'{dataset}'] = pd.read_csv(f'E:/Coding/Applied Machine Learning/02-experimental-tracking/data/prepared/{dataset}.csv')\n",
    "\n",
    "# Accessing the loaded datasets:\n",
    "train_X = loaded_data['train'].text\n",
    "train_y = loaded_data['train'].spam\n",
    "val_X = loaded_data['val'].text\n",
    "val_y = loaded_data['val'].spam\n",
    "test_X = loaded_data['test'].text\n",
    "test_y = loaded_data['test'].spam"
   ]
  },
  {
   "cell_type": "code",
   "execution_count": 13,
   "metadata": {},
   "outputs": [],
   "source": [
    "def train_models(train_X, train_y):\n",
    "    # XGBoost model\n",
    "    lgb_pipeline = Pipeline([\n",
    "        ('tfidf', TfidfVectorizer(max_features=10000)),\n",
    "        ('clf', LGBMClassifier(random_state=1, force_row_wise=True))\n",
    "    ])\n",
    "    lgb_pipeline.fit(train_X, train_y)\n",
    "\n",
    "    # Logistic Regression model\n",
    "    lr_pipeline = Pipeline([\n",
    "        ('tfidf', TfidfVectorizer(max_features=10000)),\n",
    "        ('clf', LogisticRegression(random_state=1))\n",
    "    ])\n",
    "    lr_pipeline.fit(train_X, train_y)\n",
    "\n",
    "    # Multinomial Naive Bayes model\n",
    "    nb_pipeline = Pipeline([\n",
    "        ('tfidf', TfidfVectorizer(max_features=10000)),\n",
    "        ('clf', MultinomialNB())\n",
    "    ])\n",
    "    nb_pipeline.fit(train_X, train_y)\n",
    "\n",
    "    return lgb_pipeline, lr_pipeline, nb_pipeline"
   ]
  },
  {
   "cell_type": "code",
   "execution_count": 15,
   "metadata": {},
   "outputs": [
    {
     "name": "stdout",
     "output_type": "stream",
     "text": [
      "[LightGBM] [Info] Number of positive: 804, number of negative: 2632\n",
      "[LightGBM] [Info] Total Bins 76314\n",
      "[LightGBM] [Info] Number of data points in the train set: 3436, number of used features: 2519\n",
      "[LightGBM] [Info] [binary:BoostFromScore]: pavg=0.233993 -> initscore=-1.185900\n",
      "[LightGBM] [Info] Start training from score -1.185900\n"
     ]
    }
   ],
   "source": [
    "lgb_pipeline, lr_pipeline, nb_pipeline = train_models(train_X, train_y)"
   ]
  },
  {
   "cell_type": "code",
   "execution_count": 16,
   "metadata": {},
   "outputs": [],
   "source": [
    "# function for evaluating the models\n",
    "def AUCPR_models(pipelines, test_X, test_y):\n",
    "    results = {}\n",
    "    for name, pipeline in pipelines.items():\n",
    "        predictions = pipeline.predict(test_X)\n",
    "        precision, recall, _ = precision_recall_curve(test_y, predictions)\n",
    "        auc_precision_recall = auc(recall, precision)\n",
    "        print(f'{name} AUCPR: {auc_precision_recall:.4f}')\n",
    "    return results"
   ]
  },
  {
   "cell_type": "code",
   "execution_count": 17,
   "metadata": {},
   "outputs": [
    {
     "name": "stdout",
     "output_type": "stream",
     "text": [
      "Light GBM AUCPR: 0.9717, aucpr: 0.9443996420691166\n",
      "Logistic Regression AUCPR: 0.9695, aucpr: 0.9394915513607727\n",
      "Multinomial Naive Bayes AUCPR: 0.9398, aucpr: 0.8796925476216999\n"
     ]
    }
   ],
   "source": [
    "# Storing the pipelines in a dictionary for easy reference\n",
    "pipelines = {\n",
    "    'Light GBM': lgb_pipeline,\n",
    "    'Logistic Regression': lr_pipeline,\n",
    "    'Multinomial Naive Bayes': nb_pipeline\n",
    "}\n",
    "\n",
    "# Evaluate models on test data\n",
    "evaluation_results = AUCPR_models(pipelines, test_X, test_y)"
   ]
  },
  {
   "cell_type": "code",
   "execution_count": 18,
   "metadata": {},
   "outputs": [],
   "source": [
    "# Define the base models\n",
    "models_gcv = {\n",
    "    'lightgbm': Pipeline([\n",
    "        ('tfidf', TfidfVectorizer(max_features=10000)),\n",
    "        ('clf', LGBMClassifier(random_state=1, force_row_wise=True))\n",
    "    ]),\n",
    "\n",
    "    'logistic_regression': Pipeline([\n",
    "        ('tfidf', TfidfVectorizer(max_features=10000)),\n",
    "        ('clf', LogisticRegression(random_state=1))\n",
    "    ]),\n",
    "\n",
    "    'naive_bayes': Pipeline([\n",
    "        ('tfidf', TfidfVectorizer(max_features=10000)),\n",
    "        ('clf', MultinomialNB())\n",
    "    ])\n",
    "}\n",
    "\n",
    "# Define the parameter grids for each model\n",
    "param_grids = {\n",
    "    'lightgbm': {\n",
    "        'tfidf__max_df': [0.5, 0.75],\n",
    "        'tfidf__ngram_range': [(1, 1), (1, 2)],\n",
    "        'clf__learning_rate': [0.01, 0.1, 0.5],\n",
    "        'clf__num_leaves': [15,31,63],\n",
    "        'clf__max_depth': [6, 8]\n",
    "    },\n",
    "\n",
    "    'logistic_regression': {\n",
    "        'tfidf__max_df': [0.5, 0.75],\n",
    "        'tfidf__ngram_range': [(1, 1), (1, 2)],\n",
    "        'clf__C': [0.1, 1, 10]\n",
    "    },\n",
    "    \n",
    "    'naive_bayes': {\n",
    "        'tfidf__max_df': [0.5, 0.75],\n",
    "        'tfidf__ngram_range': [(1, 1), (1, 2)],\n",
    "        'clf__alpha': [0.01, 0.1, 1]\n",
    "    }\n",
    "}"
   ]
  },
  {
   "cell_type": "code",
   "execution_count": 19,
   "metadata": {},
   "outputs": [],
   "source": [
    "from sklearn.model_selection import GridSearchCV"
   ]
  },
  {
   "cell_type": "code",
   "execution_count": 20,
   "metadata": {},
   "outputs": [],
   "source": [
    "def fit_models_with_grid_search(models, param_grids, X_train, y_train):\n",
    "    fitted_models = {}\n",
    "    \n",
    "    for name, model in models.items():\n",
    "        print(f\"Fitting {name}...\")\n",
    "        grid_search = GridSearchCV(model, param_grids[name], cv=5, n_jobs=-1)\n",
    "        grid_search.fit(X_train, y_train)\n",
    "        fitted_models[name] = grid_search\n",
    "        \n",
    "    return fitted_models"
   ]
  },
  {
   "cell_type": "code",
   "execution_count": 21,
   "metadata": {},
   "outputs": [
    {
     "name": "stdout",
     "output_type": "stream",
     "text": [
      "Fitting lightgbm...\n",
      "[LightGBM] [Info] Number of positive: 804, number of negative: 2632\n",
      "[LightGBM] [Info] Total Bins 91922\n",
      "[LightGBM] [Info] Number of data points in the train set: 3436, number of used features: 3415\n",
      "[LightGBM] [Info] [binary:BoostFromScore]: pavg=0.233993 -> initscore=-1.185900\n",
      "[LightGBM] [Info] Start training from score -1.185900\n",
      "[LightGBM] [Warning] No further splits with positive gain, best gain: -inf\n",
      "[LightGBM] [Warning] No further splits with positive gain, best gain: -inf\n",
      "[LightGBM] [Warning] No further splits with positive gain, best gain: -inf\n",
      "[LightGBM] [Warning] No further splits with positive gain, best gain: -inf\n",
      "[LightGBM] [Warning] No further splits with positive gain, best gain: -inf\n",
      "[LightGBM] [Warning] No further splits with positive gain, best gain: -inf\n",
      "[LightGBM] [Warning] No further splits with positive gain, best gain: -inf\n",
      "[LightGBM] [Warning] No further splits with positive gain, best gain: -inf\n",
      "[LightGBM] [Warning] No further splits with positive gain, best gain: -inf\n",
      "[LightGBM] [Warning] No further splits with positive gain, best gain: -inf\n",
      "[LightGBM] [Warning] No further splits with positive gain, best gain: -inf\n",
      "[LightGBM] [Warning] No further splits with positive gain, best gain: -inf\n",
      "[LightGBM] [Warning] No further splits with positive gain, best gain: -inf\n",
      "[LightGBM] [Warning] No further splits with positive gain, best gain: -inf\n",
      "[LightGBM] [Warning] No further splits with positive gain, best gain: -inf\n",
      "[LightGBM] [Warning] No further splits with positive gain, best gain: -inf\n",
      "[LightGBM] [Warning] No further splits with positive gain, best gain: -inf\n",
      "[LightGBM] [Warning] No further splits with positive gain, best gain: -inf\n",
      "[LightGBM] [Warning] No further splits with positive gain, best gain: -inf\n",
      "[LightGBM] [Warning] No further splits with positive gain, best gain: -inf\n",
      "[LightGBM] [Warning] No further splits with positive gain, best gain: -inf\n",
      "[LightGBM] [Warning] No further splits with positive gain, best gain: -inf\n",
      "[LightGBM] [Warning] No further splits with positive gain, best gain: -inf\n",
      "[LightGBM] [Warning] No further splits with positive gain, best gain: -inf\n",
      "[LightGBM] [Warning] No further splits with positive gain, best gain: -inf\n",
      "[LightGBM] [Warning] No further splits with positive gain, best gain: -inf\n",
      "[LightGBM] [Warning] No further splits with positive gain, best gain: -inf\n",
      "[LightGBM] [Warning] No further splits with positive gain, best gain: -inf\n",
      "[LightGBM] [Warning] No further splits with positive gain, best gain: -inf\n",
      "[LightGBM] [Warning] No further splits with positive gain, best gain: -inf\n",
      "[LightGBM] [Warning] No further splits with positive gain, best gain: -inf\n",
      "[LightGBM] [Warning] No further splits with positive gain, best gain: -inf\n",
      "[LightGBM] [Warning] No further splits with positive gain, best gain: -inf\n",
      "[LightGBM] [Warning] No further splits with positive gain, best gain: -inf\n",
      "[LightGBM] [Warning] No further splits with positive gain, best gain: -inf\n",
      "[LightGBM] [Warning] No further splits with positive gain, best gain: -inf\n",
      "[LightGBM] [Warning] No further splits with positive gain, best gain: -inf\n",
      "[LightGBM] [Warning] No further splits with positive gain, best gain: -inf\n",
      "[LightGBM] [Warning] No further splits with positive gain, best gain: -inf\n",
      "[LightGBM] [Warning] No further splits with positive gain, best gain: -inf\n",
      "[LightGBM] [Warning] No further splits with positive gain, best gain: -inf\n",
      "[LightGBM] [Warning] No further splits with positive gain, best gain: -inf\n",
      "[LightGBM] [Warning] No further splits with positive gain, best gain: -inf\n",
      "[LightGBM] [Warning] No further splits with positive gain, best gain: -inf\n",
      "[LightGBM] [Warning] No further splits with positive gain, best gain: -inf\n",
      "[LightGBM] [Warning] No further splits with positive gain, best gain: -inf\n",
      "[LightGBM] [Warning] No further splits with positive gain, best gain: -inf\n",
      "[LightGBM] [Warning] No further splits with positive gain, best gain: -inf\n",
      "[LightGBM] [Warning] No further splits with positive gain, best gain: -inf\n",
      "[LightGBM] [Warning] No further splits with positive gain, best gain: -inf\n",
      "[LightGBM] [Warning] No further splits with positive gain, best gain: -inf\n",
      "[LightGBM] [Warning] No further splits with positive gain, best gain: -inf\n",
      "[LightGBM] [Warning] No further splits with positive gain, best gain: -inf\n",
      "[LightGBM] [Warning] No further splits with positive gain, best gain: -inf\n",
      "[LightGBM] [Warning] No further splits with positive gain, best gain: -inf\n",
      "[LightGBM] [Warning] No further splits with positive gain, best gain: -inf\n",
      "[LightGBM] [Warning] No further splits with positive gain, best gain: -inf\n",
      "[LightGBM] [Warning] No further splits with positive gain, best gain: -inf\n",
      "[LightGBM] [Warning] No further splits with positive gain, best gain: -inf\n",
      "[LightGBM] [Warning] No further splits with positive gain, best gain: -inf\n",
      "[LightGBM] [Warning] No further splits with positive gain, best gain: -inf\n",
      "[LightGBM] [Warning] No further splits with positive gain, best gain: -inf\n",
      "[LightGBM] [Warning] No further splits with positive gain, best gain: -inf\n",
      "[LightGBM] [Warning] No further splits with positive gain, best gain: -inf\n",
      "[LightGBM] [Warning] No further splits with positive gain, best gain: -inf\n",
      "[LightGBM] [Warning] No further splits with positive gain, best gain: -inf\n",
      "[LightGBM] [Warning] No further splits with positive gain, best gain: -inf\n",
      "[LightGBM] [Warning] No further splits with positive gain, best gain: -inf\n",
      "[LightGBM] [Warning] No further splits with positive gain, best gain: -inf\n",
      "[LightGBM] [Warning] No further splits with positive gain, best gain: -inf\n",
      "[LightGBM] [Warning] No further splits with positive gain, best gain: -inf\n",
      "[LightGBM] [Warning] No further splits with positive gain, best gain: -inf\n",
      "[LightGBM] [Warning] No further splits with positive gain, best gain: -inf\n",
      "[LightGBM] [Warning] No further splits with positive gain, best gain: -inf\n",
      "[LightGBM] [Warning] No further splits with positive gain, best gain: -inf\n",
      "[LightGBM] [Warning] No further splits with positive gain, best gain: -inf\n",
      "[LightGBM] [Warning] No further splits with positive gain, best gain: -inf\n",
      "[LightGBM] [Warning] No further splits with positive gain, best gain: -inf\n",
      "[LightGBM] [Warning] No further splits with positive gain, best gain: -inf\n",
      "[LightGBM] [Warning] No further splits with positive gain, best gain: -inf\n",
      "[LightGBM] [Warning] No further splits with positive gain, best gain: -inf\n",
      "[LightGBM] [Warning] No further splits with positive gain, best gain: -inf\n",
      "[LightGBM] [Warning] No further splits with positive gain, best gain: -inf\n",
      "[LightGBM] [Warning] No further splits with positive gain, best gain: -inf\n",
      "[LightGBM] [Warning] No further splits with positive gain, best gain: -inf\n",
      "[LightGBM] [Warning] No further splits with positive gain, best gain: -inf\n",
      "[LightGBM] [Warning] No further splits with positive gain, best gain: -inf\n",
      "[LightGBM] [Warning] No further splits with positive gain, best gain: -inf\n",
      "[LightGBM] [Warning] No further splits with positive gain, best gain: -inf\n",
      "[LightGBM] [Warning] No further splits with positive gain, best gain: -inf\n",
      "[LightGBM] [Warning] No further splits with positive gain, best gain: -inf\n",
      "[LightGBM] [Warning] No further splits with positive gain, best gain: -inf\n",
      "[LightGBM] [Warning] No further splits with positive gain, best gain: -inf\n",
      "[LightGBM] [Warning] No further splits with positive gain, best gain: -inf\n",
      "[LightGBM] [Warning] No further splits with positive gain, best gain: -inf\n",
      "[LightGBM] [Warning] No further splits with positive gain, best gain: -inf\n",
      "[LightGBM] [Warning] No further splits with positive gain, best gain: -inf\n",
      "[LightGBM] [Warning] No further splits with positive gain, best gain: -inf\n",
      "[LightGBM] [Warning] No further splits with positive gain, best gain: -inf\n",
      "[LightGBM] [Warning] No further splits with positive gain, best gain: -inf\n",
      "Fitting logistic_regression...\n",
      "Fitting naive_bayes...\n"
     ]
    }
   ],
   "source": [
    "# Call the function to fit the models\n",
    "fitted_models = fit_models_with_grid_search(models_gcv, param_grids, train_X, train_y)"
   ]
  },
  {
   "cell_type": "code",
   "execution_count": 22,
   "metadata": {},
   "outputs": [],
   "source": [
    "# Now you can access the best models with best hyperparameters by accessing fitted_models dictionary\n",
    "best_lightgbm_model = fitted_models['lightgbm'].best_estimator_\n",
    "best_logistic_regression_model = fitted_models['logistic_regression'].best_estimator_\n",
    "best_naive_bayes_model = fitted_models['naive_bayes'].best_estimator_"
   ]
  },
  {
   "cell_type": "code",
   "execution_count": 23,
   "metadata": {},
   "outputs": [],
   "source": [
    "def AUCPR_models(fitted_models, test_X, test_y):\n",
    "    results = {}\n",
    "    for name, grid_search_cv in fitted_models.items():\n",
    "        best_estimator = grid_search_cv.best_estimator_\n",
    "        predictions = best_estimator.predict(test_X)\n",
    "        precision, recall, _ = precision_recall_curve(test_y, predictions)\n",
    "        auc_precision_recall = auc(recall, precision)\n",
    "        results[name] = auc_precision_recall\n",
    "        print(f'{name} AUCPR: {auc_precision_recall:.4f}')\n",
    "    return results"
   ]
  },
  {
   "cell_type": "code",
   "execution_count": 24,
   "metadata": {},
   "outputs": [
    {
     "name": "stdout",
     "output_type": "stream",
     "text": [
      "lightgbm AUCPR: 0.9707\n",
      "logistic_regression AUCPR: 0.9906\n",
      "naive_bayes AUCPR: 0.9794\n"
     ]
    }
   ],
   "source": [
    "# Call the function to evaluate the best models\n",
    "AUCPR_results = AUCPR_models(fitted_models, test_X, test_y)"
   ]
  },
  {
   "cell_type": "code",
   "execution_count": null,
   "metadata": {},
   "outputs": [],
   "source": []
  }
 ],
 "metadata": {
  "kernelspec": {
   "display_name": "Python 3",
   "language": "python",
   "name": "python3"
  },
  "language_info": {
   "codemirror_mode": {
    "name": "ipython",
    "version": 3
   },
   "file_extension": ".py",
   "mimetype": "text/x-python",
   "name": "python",
   "nbconvert_exporter": "python",
   "pygments_lexer": "ipython3",
   "version": "3.10.11"
  }
 },
 "nbformat": 4,
 "nbformat_minor": 2
}
