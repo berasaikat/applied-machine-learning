{
 "cells": [
  {
   "cell_type": "code",
   "execution_count": 4,
   "metadata": {},
   "outputs": [],
   "source": [
    "# loading the libraries\n",
    "import pandas as pd\n",
    "import matplotlib.pyplot as plt\n",
    "import seaborn as sns\n",
    "import string\n",
    "import re\n",
    "\n",
    "from nltk.corpus import stopwords\n",
    "from nltk.stem import WordNetLemmatizer\n",
    "from sklearn.model_selection import train_test_split\n",
    "\n",
    "import warnings\n",
    "warnings.filterwarnings('ignore')"
   ]
  },
  {
   "cell_type": "code",
   "execution_count": 16,
   "metadata": {},
   "outputs": [],
   "source": [
    "# Load the three datasets\n",
    "def load_datasets():\n",
    "    Spam = pd.read_csv(r\"E:\\Coding\\Applied Machine Learning\\02-experimental-tracking\\data\\raw\\raw_data.csv\")\n",
    "    return Spam"
   ]
  },
  {
   "cell_type": "code",
   "execution_count": 17,
   "metadata": {},
   "outputs": [],
   "source": [
    "# Visualize the data\n",
    "def visualize_data(df):\n",
    "    plt.figure(figsize=(5, 5))\n",
    "    custom_palette = [\"#FF5733\", \"#33FF57\"]\n",
    "    sns.histplot(data=df, x='spam', hue='spam', bins=2, palette=custom_palette)\n",
    "    plt.xlabel(\"Email Type\")\n",
    "    plt.title(\"Spam and Normal Email Frequency\")\n",
    "    plt.legend([\"Spam\", \"Normal\"])\n",
    "    plt.show()"
   ]
  },
  {
   "cell_type": "code",
   "execution_count": 18,
   "metadata": {},
   "outputs": [],
   "source": [
    "data = load_datasets()"
   ]
  },
  {
   "cell_type": "code",
   "execution_count": 19,
   "metadata": {},
   "outputs": [
    {
     "data": {
      "image/png": "[encoded data removed]",
      "text/plain": [
       "<Figure size 500x500 with 1 Axes>"
      ]
     },
     "metadata": {},
     "output_type": "display_data"
    }
   ],
   "source": [
    "visualize_data(data)"
   ]
  },
  {
   "cell_type": "code",
   "execution_count": 20,
   "metadata": {},
   "outputs": [],
   "source": [
    "# Pre-processing the text data\n",
    "def clean_text(text):\n",
    "    if isinstance(text, str):\n",
    "        text = re.sub(r'\\d+', '', text)\n",
    "        text = re.sub('\\W+', ' ', text.lower())\n",
    "        text = text.translate(str.maketrans('', '', string.punctuation))\n",
    "        return text\n",
    "    else:\n",
    "        return \"\""
   ]
  },
  {
   "cell_type": "code",
   "execution_count": 21,
   "metadata": {},
   "outputs": [],
   "source": [
    "def preprocess_text(df):\n",
    "    df['text'] = df['text'].apply(clean_text)\n",
    "    stopwords_list = stopwords.words('english')\n",
    "    df['text'] = df['text'].map(lambda x: \" \".join(word for word in x.split() if word not in stopwords_list))\n",
    "    lemmatizer = WordNetLemmatizer()\n",
    "    df['text'] = df['text'].map(lambda x: \" \".join(lemmatizer.lemmatize(word) for word in x.split()))\n",
    "    pattern = r'[^\\x00-\\x7F]+'\n",
    "    df['text'] = df['text'].apply(lambda x: re.sub(pattern, '', x))\n",
    "    return df"
   ]
  },
  {
   "cell_type": "code",
   "execution_count": 22,
   "metadata": {},
   "outputs": [],
   "source": [
    "data = preprocess_text(data)"
   ]
  },
  {
   "cell_type": "code",
   "execution_count": 25,
   "metadata": {},
   "outputs": [],
   "source": [
    "# Split the dataset into train, validation and test\n",
    "def split_data(df, random_state=None):\n",
    "    train_df, test_df = train_test_split(df, test_size=0.2, shuffle=True, random_state=random_state)\n",
    "    train_df, val_df = train_test_split(train_df, test_size=0.25, shuffle=True, random_state=random_state) # 0.25*0.8=0.2\n",
    "    return train_df, val_df, test_df"
   ]
  },
  {
   "cell_type": "code",
   "execution_count": 26,
   "metadata": {},
   "outputs": [],
   "source": [
    "train, val, test= split_data(data)"
   ]
  },
  {
   "cell_type": "code",
   "execution_count": 27,
   "metadata": {},
   "outputs": [],
   "source": [
    "# saving the datasets for future use\n",
    "datasets = ['train', 'val', 'test']\n",
    "for dataset in datasets:\n",
    "    globals()[f'{dataset}'].to_csv(f'E:/Coding/Applied Machine Learning/02-experimental-tracking/data/prepared/{dataset}.csv', index=False)"
   ]
  }
 ],
 "metadata": {
  "kernelspec": {
   "display_name": "Python 3",
   "language": "python",
   "name": "python3"
  },
  "language_info": {
   "codemirror_mode": {
    "name": "ipython",
    "version": 3
   },
   "file_extension": ".py",
   "mimetype": "text/x-python",
   "name": "python",
   "nbconvert_exporter": "python",
   "pygments_lexer": "ipython3",
   "version": "3.10.11"
  }
 },
 "nbformat": 4,
 "nbformat_minor": 2
}
